{
 "cells": [
  {
   "cell_type": "code",
   "execution_count": null,
   "metadata": {},
   "outputs": [
    {
     "name": "stderr",
     "output_type": "stream",
     "text": [
      "c:\\Python312\\Lib\\site-packages\\tqdm\\auto.py:21: TqdmWarning: IProgress not found. Please update jupyter and ipywidgets. See https://ipywidgets.readthedocs.io/en/stable/user_install.html\n",
      "  from .autonotebook import tqdm as notebook_tqdm\n"
     ]
    },
    {
     "name": "stdout",
     "output_type": "stream",
     "text": [
      "simulation setting:\n",
      " scenario name: \n",
      " simulation duration:\t 3600 s\n",
      " number of vehicles:\t 14935 veh\n",
      " total road length:\t 6500 m\n",
      " time discret. width:\t 5 s\n",
      " platoon size:\t\t 5 veh\n",
      " number of timesteps:\t 720\n",
      " number of platoons:\t 2987\n",
      " number of links:\t 13\n",
      " number of nodes:\t 14\n",
      " setup time:\t\t 0.54 s\n",
      "simulating...\n",
      "      time| # of vehicles| ave speed| computation time\n",
      "       0 s|        0 vehs|   0.0 m/s|     0.00 s\n",
      "     600 s|      560 vehs|   4.9 m/s|     0.45 s\n",
      "    1200 s|      575 vehs|   5.1 m/s|     1.21 s\n",
      "    1800 s|      565 vehs|   4.4 m/s|     1.72 s\n",
      "    2400 s|      580 vehs|   4.2 m/s|     2.09 s\n",
      "    3000 s|      560 vehs|   4.9 m/s|     2.45 s\n",
      "    3595 s|      585 vehs|   2.9 m/s|     2.77 s\n",
      " simulation finished\n",
      "results:\n",
      " average speed:\t 7.5 m/s\n",
      " number of completed trips:\t 6885 / 14935\n",
      " average travel time of trips:\t 1016.0 s\n",
      " average delay of trips:\t 975.7 s\n",
      " delay ratio:\t\t\t 0.960\n"
     ]
    }
   ],
   "source": [
    "from uxsim import *\n",
    "import itertools\n",
    "\n",
    "seed = None\n",
    "\n",
    "W = World(\n",
    "    name=\"\",\n",
    "    deltan=5,\n",
    "    tmax=3600, #1 hour simulation\n",
    "    print_mode=1, save_mode=0, show_mode=1,\n",
    "    random_seed=seed,\n",
    "    duo_update_time=600\n",
    ")\n",
    "random.seed(seed)\n",
    "\n",
    "# network definition\n",
    "\"\"\"\n",
    "    N1  N2  N3  N4 \n",
    "    |   |   |   |\n",
    "W1--I1--I2--I3--I4-<E1\n",
    "    |   |   |   |\n",
    "    v   ^   v   ^\n",
    "    S1  S2  S3  S4\n",
    "\"\"\"\n",
    "\n",
    "signal_time = 20\n",
    "sf_1=1\n",
    "sf_2=1\n",
    "\n",
    "I1 = W.addNode(\"I1\", 1, 0, signal=[signal_time*sf_1,signal_time*sf_2])\n",
    "I2 = W.addNode(\"I2\", 2, 0, signal=[signal_time*sf_1,signal_time*sf_2])\n",
    "I3 = W.addNode(\"I3\", 3, 0, signal=[signal_time*sf_1,signal_time*sf_2])\n",
    "I4 = W.addNode(\"I4\", 4, 0, signal=[signal_time*sf_1,signal_time*sf_2])\n",
    "W1 = W.addNode(\"W1\", 0, 0)\n",
    "E1 = W.addNode(\"E1\", 5, 0)\n",
    "N1 = W.addNode(\"N1\", 1, 1)\n",
    "N2 = W.addNode(\"N2\", 2, 1)\n",
    "N3 = W.addNode(\"N3\", 3, 1)\n",
    "N4 = W.addNode(\"N4\", 4, 1)\n",
    "S1 = W.addNode(\"S1\", 1, -1)\n",
    "S2 = W.addNode(\"S2\", 2, -1)\n",
    "S3 = W.addNode(\"S3\", 3, -1)\n",
    "S4 = W.addNode(\"S4\", 4, -1)\n",
    "\n",
    "#E <-> W direction: signal group 0\n",
    "for n1,n2 in [[W1, I1], [I1, I2], [I2, I3], [I3, I4], [I4, E1]]:\n",
    "    W.addLink(n2.name+n1.name, n2, n1, length=500, free_flow_speed=50, jam_density=0.2, number_of_lanes=3, signal_group=0)\n",
    "    \n",
    "#N -> S direction: signal group 1\n",
    "for n1,n2 in [[N1, I1], [I1, S1], [N3, I3], [I3, S3]]:\n",
    "    W.addLink(n1.name+n2.name, n1, n2, length=500, free_flow_speed=30, jam_density=0.2, signal_group=1)\n",
    "\n",
    "#S -> N direction: signal group 2\n",
    "for n1,n2 in [[N2, I2], [I2, S2], [N4, I4], [I4, S4]]:\n",
    "    W.addLink(n2.name+n1.name, n2, n1, length=500, free_flow_speed=30, jam_density=0.2, signal_group=1)\n",
    "    \n",
    "\n",
    "# random demand definition every 30 seconds\n",
    "dt = 30\n",
    "demand = 2 #average demand for the simulation time\n",
    "demands = []\n",
    "for t in range(0, 3600, dt):\n",
    "    dem = random.uniform(0, demand)\n",
    "    for n1, n2 in [[N1, S1], [S2, N2], [N3, S3], [S4, N4]]:\n",
    "        W.adddemand(n1, n2, t, t+dt, dem*0.25)\n",
    "        demands.append({\"start\":n1.name, \"dest\":n2.name, \"times\":{\"start\":t,\"end\":t+dt}, \"demand\":dem})\n",
    "    for n1, n2 in [[E1, W1], [N1, W1], [S2, W1], [N3, W1],[S4, W1]]:\n",
    "        W.adddemand(n1, n2, t, t+dt, dem*0.75)\n",
    "        demands.append({\"start\":n1.name, \"dest\":n2.name, \"times\":{\"start\":t,\"end\":t+dt}, \"demand\":dem})\n",
    "\n",
    "W.exec_simulation()\n",
    "W.analyzer.print_simple_stats()"
   ]
  },
  {
   "cell_type": "code",
   "execution_count": 5,
   "metadata": {},
   "outputs": [
    {
     "data": {
      "image/png": "[encoded data removed]",
      "text/plain": [
       "<Figure size 600x600 with 1 Axes>"
      ]
     },
     "metadata": {},
     "output_type": "display_data"
    }
   ],
   "source": [
    "W.show_network()\n"
   ]
  },
  {
   "cell_type": "code",
   "execution_count": null,
   "metadata": {},
   "outputs": [
    {
     "ename": "SyntaxError",
     "evalue": "(unicode error) 'unicodeescape' codec can't decode bytes in position 15-17: truncated \\UXXXXXXXX escape (2467598119.py, line 4)",
     "output_type": "error",
     "traceback": [
      "\u001b[1;36m  Cell \u001b[1;32mIn[7], line 4\u001b[1;36m\u001b[0m\n\u001b[1;33m    df.to_csv('\\\\wsl.localhost\\Ubuntu\\home\\kalli\\out.csv', index=False)\u001b[0m\n\u001b[1;37m              ^\u001b[0m\n\u001b[1;31mSyntaxError\u001b[0m\u001b[1;31m:\u001b[0m (unicode error) 'unicodeescape' codec can't decode bytes in position 15-17: truncated \\UXXXXXXXX escape\n"
     ]
    }
   ],
   "source": [
    "import pandas as pd\n",
    "W.analyzer.vehicles_to_pandas().head(20)\n",
    "df = W.analyzer.vehicles_to_pandas()\n",
    "df.to_csv(r'\\\\wsl.localhost\\Ubuntu\\home\\kalli\\out.csv', index=False)\n",
    "df.head(20)"
   ]
  },
  {
   "cell_type": "markdown",
   "metadata": {},
   "source": [
    "•\tname: κωδικός του οχήματος (ή της ομάδας / διμοιρίας οχημάτων)\n",
    "•\tdn: το μέγεθος της ομάδας (διμοιρίας)\n",
    "•\torig: αφετηρία οχήματος\n",
    "•\tdest: προορισμός οχήματος\n",
    "•\tt: χρόνος από την αρχή της εκτέλεσης της εξομοίωσης (σε δευτερόλεπτα)\n",
    "•\tlink: τρέχουσα οδική ακμή που βρίσκεται το όχημα ή ο κωδικός κατάστασης\n",
    "•\tx: θέση εντός της οδικής ακμής από την αρχή της (σε μέτρα)\n",
    "•\ts: την απόσταση του οχήματος από το προπορευόμενο (σε μέτρα)\n",
    "•\tv: τρέχουσα ταχύτητα του οχήματος (χλμ/ώρα)"
   ]
  }
 ],
 "metadata": {
  "kernelspec": {
   "display_name": "Python 3",
   "language": "python",
   "name": "python3"
  },
  "language_info": {
   "codemirror_mode": {
    "name": "ipython",
    "version": 3
   },
   "file_extension": ".py",
   "mimetype": "text/x-python",
   "name": "python",
   "nbconvert_exporter": "python",
   "pygments_lexer": "ipython3",
   "version": "3.12.2"
  }
 },
 "nbformat": 4,
 "nbformat_minor": 2
}
